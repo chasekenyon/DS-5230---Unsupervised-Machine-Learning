{
 "cells": [
  {
   "cell_type": "markdown",
   "id": "f08249da",
   "metadata": {},
   "source": [
    "# Problem 2: Kosarak Association rules"
   ]
  },
  {
   "cell_type": "code",
   "execution_count": 1,
   "id": "40e8dd56",
   "metadata": {},
   "outputs": [],
   "source": [
    "import pandas as pd\n",
    "import os\n",
    "import time"
   ]
  },
  {
   "cell_type": "markdown",
   "id": "d6e59a96",
   "metadata": {},
   "source": [
    "### B\n",
    "B. Use your program to convert the kosarak.dat file to a sparse kosarak.arff. About how long did it take to run?"
   ]
  },
  {
   "cell_type": "code",
   "execution_count": 2,
   "id": "e29dc59b",
   "metadata": {},
   "outputs": [
    {
     "data": {
      "text/plain": [
       "<function TextIOWrapper.close()>"
      ]
     },
     "execution_count": 2,
     "metadata": {},
     "output_type": "execute_result"
    }
   ],
   "source": [
    "#load data\n",
    "file1 = open('C:/Users/chase/OneDrive/Northeastern Code/DS 5230/Hw 1/kosarak.dat', encoding=\"utf-8\")\n",
    "lines = file1.readlines()\n",
    "file1.close"
   ]
  },
  {
   "cell_type": "code",
   "execution_count": 3,
   "id": "e67856aa",
   "metadata": {},
   "outputs": [],
   "source": [
    "path = 'C:/Users/chase/OneDrive/Northeastern Code/DS 5230/Hw 1/sparse_kosarak.ARFF'\n",
    "f2 = open(path, 'w')"
   ]
  },
  {
   "cell_type": "code",
   "execution_count": 4,
   "id": "e103963c",
   "metadata": {
    "scrolled": true
   },
   "outputs": [],
   "source": [
    "#writing header and attributes\n",
    "f2.write('@RELATION sparse\\n')\n",
    "for x in range(0, 41270):\n",
    "    f2.write(f\"@ATTRIBUTE Att{x+1} {{0,1}}\\n\")"
   ]
  },
  {
   "cell_type": "code",
   "execution_count": 5,
   "id": "9bfa49b7",
   "metadata": {},
   "outputs": [
    {
     "data": {
      "text/plain": [
       "6"
      ]
     },
     "execution_count": 5,
     "metadata": {},
     "output_type": "execute_result"
    }
   ],
   "source": [
    "f2.write('@DATA\\n')"
   ]
  },
  {
   "cell_type": "code",
   "execution_count": 6,
   "id": "c5907f15",
   "metadata": {},
   "outputs": [],
   "source": [
    "#write lines in sparse arff format\n",
    "start = time.time()\n",
    "count = 0\n",
    "for line in lines:\n",
    "    count += 1\n",
    "    line = line.strip().split()\n",
    "    line = [*set(line)]\n",
    "    line.sort(key = int)\n",
    "    new_line = '{'\n",
    "    for x in line:\n",
    "        new_line += f'{str(int(x)-1)} 1, '\n",
    "    new_line = new_line[:-2]\n",
    "#    new_line += f\", '{count}' {count}\"\n",
    "    new_line += '}'\n",
    "    f2.write(new_line)\n",
    "    f2.write('\\n')\n",
    "end=time.time()\n",
    "#     print(new_line)\n",
    "#     if count >= 10:\n",
    "#         break"
   ]
  },
  {
   "cell_type": "code",
   "execution_count": 7,
   "id": "7906a47f",
   "metadata": {},
   "outputs": [
    {
     "name": "stdout",
     "output_type": "stream",
     "text": [
      "6.34628438949585\n"
     ]
    }
   ],
   "source": [
    "f2.close()\n",
    "print(end-start)"
   ]
  },
  {
   "cell_type": "markdown",
   "id": "29731aed",
   "metadata": {},
   "source": [
    "Converting the file to the sparse .arff file format took approximately 6.3 seconds."
   ]
  },
  {
   "cell_type": "markdown",
   "id": "9b640b95",
   "metadata": {},
   "source": [
    "### A\n",
    "Write a Python program which takes as its argument5 the path to a text file of data (assumed to be in the itemset format above) and produces as output to the console a sparse ARFF file."
   ]
  },
  {
   "cell_type": "code",
   "execution_count": 8,
   "id": "465cef59",
   "metadata": {},
   "outputs": [
    {
     "name": "stdout",
     "output_type": "stream",
     "text": [
      "@RELATION sparse\n",
      "\n",
      "@ATTRIBUTE Att1 {0,1}\n",
      "\n",
      "@ATTRIBUTE Att2 {0,1}\n",
      "\n",
      "@ATTRIBUTE Att3 {0,1}\n",
      "\n",
      "@ATTRIBUTE Att4 {0,1}\n",
      "\n",
      "@ATTRIBUTE Att5 {0,1}\n",
      "\n",
      "@ATTRIBUTE Att6 {0,1}\n",
      "\n",
      "@ATTRIBUTE Att7 {0,1}\n",
      "\n",
      "@ATTRIBUTE Att8 {0,1}\n",
      "\n",
      "@ATTRIBUTE Att9 {0,1}\n",
      "\n",
      "@ATTRIBUTE Att10 {0,1}\n",
      "\n",
      "@ATTRIBUTE Att11 {0,1}\n",
      "\n",
      "@ATTRIBUTE Att12 {0,1}\n",
      "\n",
      "@ATTRIBUTE Att13 {0,1}\n",
      "\n",
      "@ATTRIBUTE Att14 {0,1}\n",
      "\n",
      "@ATTRIBUTE Att15 {0,1}\n",
      "\n",
      "@ATTRIBUTE Att16 {0,1}\n",
      "\n",
      "@ATTRIBUTE Att17 {0,1}\n",
      "\n",
      "@ATTRIBUTE Att18 {0,1}\n",
      "\n",
      "@ATTRIBUTE Att19 {0,1}\n",
      "\n",
      "@ATTRIBUTE Att20 {0,1}\n",
      "\n",
      "@ATTRIBUTE Att21 {0,1}\n",
      "\n",
      "@ATTRIBUTE Att22 {0,1}\n",
      "\n",
      "@ATTRIBUTE Att23 {0,1}\n",
      "\n",
      "@ATTRIBUTE Att24 {0,1}\n",
      "\n",
      "@ATTRIBUTE Att25 {0,1}\n",
      "\n",
      "@ATTRIBUTE Att26 {0,1}\n",
      "\n",
      "@ATTRIBUTE Att27 {0,1}\n",
      "\n",
      "@ATTRIBUTE Att28 {0,1}\n",
      "\n",
      "@ATTRIBUTE Att29 {0,1}\n",
      "\n",
      "@ATTRIBUTE Att30 {0,1}\n",
      "\n",
      "@ATTRIBUTE Att31 {0,1}\n",
      "\n",
      "@ATTRIBUTE Att32 {0,1}\n",
      "\n",
      "@ATTRIBUTE Att33 {0,1}\n",
      "\n",
      "@ATTRIBUTE Att34 {0,1}\n",
      "\n",
      "@ATTRIBUTE Att35 {0,1}\n",
      "\n",
      "@ATTRIBUTE Att36 {0,1}\n",
      "\n",
      "@ATTRIBUTE Att37 {0,1}\n",
      "\n",
      "@ATTRIBUTE Att38 {0,1}\n",
      "\n",
      "@ATTRIBUTE Att39 {0,1}\n",
      "\n",
      "@ATTRIBUTE Att40 {0,1}\n",
      "\n",
      "@ATTRIBUTE Att41 {0,1}\n",
      "\n",
      "@ATTRIBUTE Att42 {0,1}\n",
      "\n",
      "@ATTRIBUTE Att43 {0,1}\n",
      "\n",
      "@ATTRIBUTE Att44 {0,1}\n",
      "\n",
      "@ATTRIBUTE Att45 {0,1}\n",
      "\n",
      "@ATTRIBUTE Att46 {0,1}\n",
      "\n",
      "@ATTRIBUTE Att47 {0,1}\n",
      "\n",
      "@ATTRIBUTE Att48 {0,1}\n",
      "\n",
      "@ATTRIBUTE Att49 {0,1}\n",
      "\n",
      "@ATTRIBUTE Att50 {0,1}\n",
      "\n",
      "@ATTRIBUTE Att51 {0,1}\n",
      "\n",
      "@ATTRIBUTE Att52 {0,1}\n",
      "\n",
      "@ATTRIBUTE Att53 {0,1}\n",
      "\n",
      "@ATTRIBUTE Att54 {0,1}\n",
      "\n",
      "@ATTRIBUTE Att55 {0,1}\n",
      "\n",
      "@ATTRIBUTE Att56 {0,1}\n",
      "\n",
      "@ATTRIBUTE Att57 {0,1}\n",
      "\n",
      "@ATTRIBUTE Att58 {0,1}\n",
      "\n",
      "@ATTRIBUTE Att59 {0,1}\n",
      "\n",
      "@ATTRIBUTE Att60 {0,1}\n",
      "\n",
      "@ATTRIBUTE Att61 {0,1}\n",
      "\n",
      "@ATTRIBUTE Att62 {0,1}\n",
      "\n",
      "@ATTRIBUTE Att63 {0,1}\n",
      "\n",
      "@ATTRIBUTE Att64 {0,1}\n",
      "\n",
      "@ATTRIBUTE Att65 {0,1}\n",
      "\n",
      "@ATTRIBUTE Att66 {0,1}\n",
      "\n",
      "@ATTRIBUTE Att67 {0,1}\n",
      "\n",
      "@ATTRIBUTE Att68 {0,1}\n",
      "\n",
      "@ATTRIBUTE Att69 {0,1}\n",
      "\n",
      "@ATTRIBUTE Att70 {0,1}\n",
      "\n",
      "@ATTRIBUTE Att71 {0,1}\n",
      "\n",
      "@ATTRIBUTE Att72 {0,1}\n",
      "\n",
      "@ATTRIBUTE Att73 {0,1}\n",
      "\n",
      "@ATTRIBUTE Att74 {0,1}\n",
      "\n",
      "@ATTRIBUTE Att75 {0,1}\n",
      "\n",
      "@ATTRIBUTE Att76 {0,1}\n",
      "\n",
      "@ATTRIBUTE Att77 {0,1}\n",
      "\n",
      "@ATTRIBUTE Att78 {0,1}\n",
      "\n",
      "@ATTRIBUTE Att79 {0,1}\n",
      "\n",
      "@ATTRIBUTE Att80 {0,1}\n",
      "\n",
      "@ATTRIBUTE Att81 {0,1}\n",
      "\n",
      "@ATTRIBUTE Att82 {0,1}\n",
      "\n",
      "@ATTRIBUTE Att83 {0,1}\n",
      "\n",
      "@ATTRIBUTE Att84 {0,1}\n",
      "\n",
      "@ATTRIBUTE Att85 {0,1}\n",
      "\n",
      "@ATTRIBUTE Att86 {0,1}\n",
      "\n",
      "@ATTRIBUTE Att87 {0,1}\n",
      "\n",
      "@ATTRIBUTE Att88 {0,1}\n",
      "\n",
      "@ATTRIBUTE Att89 {0,1}\n",
      "\n",
      "@ATTRIBUTE Att90 {0,1}\n",
      "\n",
      "@ATTRIBUTE Att91 {0,1}\n",
      "\n",
      "@ATTRIBUTE Att92 {0,1}\n",
      "\n",
      "@ATTRIBUTE Att93 {0,1}\n",
      "\n",
      "@ATTRIBUTE Att94 {0,1}\n",
      "\n",
      "@ATTRIBUTE Att95 {0,1}\n",
      "\n",
      "@ATTRIBUTE Att96 {0,1}\n",
      "\n",
      "@ATTRIBUTE Att97 {0,1}\n",
      "\n",
      "@ATTRIBUTE Att98 {0,1}\n",
      "\n",
      "@ATTRIBUTE Att99 {0,1}\n",
      "\n"
     ]
    }
   ],
   "source": [
    "count = 0\n",
    "with open(path, 'r') as f2:\n",
    "    for line in f2.readlines():\n",
    "        print(line)\n",
    "        count += 1\n",
    "        if count >= 100:\n",
    "            break"
   ]
  },
  {
   "cell_type": "markdown",
   "id": "ddfad041",
   "metadata": {},
   "source": [
    "### B\n",
    "Done in Weka Explorer"
   ]
  },
  {
   "cell_type": "markdown",
   "id": "8f6cb675",
   "metadata": {},
   "source": [
    "### C\n",
    "C. Load the resulting file into Weka (as described above; you should have 41,270 attributes and 990, 002 instances). About how long did it take to load this file?"
   ]
  },
  {
   "cell_type": "markdown",
   "id": "e1373012",
   "metadata": {},
   "source": [
    "Loading the file  into Weka from file explorer took approximately 7 seconds"
   ]
  },
  {
   "cell_type": "markdown",
   "id": "e7a4da34",
   "metadata": {},
   "source": [
    "### D\n",
    "D. Use Weka’s FP-Growth implementation to find rules that have support count of at least 49, 500 and confidence of at least 99% – record your rules (there should be 2)."
   ]
  },
  {
   "cell_type": "markdown",
   "id": "0c425f4b",
   "metadata": {},
   "source": [
    "FPGrowth found 2 rules (displaying top 2)\n",
    "\n",
    "1. [Att11=1, Att218=1, Att148=1]: 50098 ==> [Att6=1]: 49866   <conf:(1)> lift:(1.64) lev:(0.02) conv:(84.4) \n",
    "2. [Att11=1, Att148=1]: 55759 ==> [Att6=1]: 55230   <conf:(0.99)> lift:(1.63) lev:(0.02) conv:(41.3) "
   ]
  },
  {
   "cell_type": "markdown",
   "id": "681d205a",
   "metadata": {},
   "source": [
    "### E\n",
    "Run the algorithm at least 5 times. Then look to the log and record how much time each took. How does the average time compare to the time necessary to convert the dataset and then load into Weka?"
   ]
  },
  {
   "cell_type": "markdown",
   "id": "5feb205f",
   "metadata": {},
   "source": [
    "17:18:52: Command: weka.associations.FPGrowth -P 2 -I -1 -N 10 -T 0 -C 0.99 -D 0.05 -U 1.0 -M 49500.0<br>\n",
    "17:18:54: Finished weka.associations.FPGrowth<br>\n",
    "17:18:55: Started weka.associations.FPGrowth<br>\n",
    "17:18:55: Command: weka.associations.FPGrowth -P 2 -I -1 -N 10 -T 0 -C 0.99 -D 0.05 -U 1.0 -M 49500.0<br>\n",
    "17:18:57: Finished weka.associations.FPGrowth<br>\n",
    "17:18:58: Started weka.associations.FPGrowth<br>\n",
    "17:18:58: Command: weka.associations.FPGrowth -P 2 -I -1 -N 10 -T 0 -C 0.99 -D 0.05 -U 1.0 -M 49500.0<br>\n",
    "17:19:00: Finished weka.associations.FPGrowth<br>\n",
    "17:19:01: Started weka.associations.FPGrowth<br>\n",
    "17:19:01: Command: weka.associations.FPGrowth -P 2 -I -1 -N 10 -T 0 -C 0.99 -D 0.05 -U 1.0 -M 49500.0<br>\n",
    "17:19:03: Finished weka.associations.FPGrowth<br>\n",
    "17:19:04: Started weka.associations.FPGrowth<br>\n",
    "17:19:04: Command: weka.associations.FPGrowth -P 2 -I -1 -N 10 -T 0 -C 0.99 -D 0.05 -U 1.0 -M 49500.0<br>\n",
    "17:19:06: Finished weka.associations.FPGrowth<br>"
   ]
  },
  {
   "cell_type": "markdown",
   "id": "fa715eba",
   "metadata": {},
   "source": [
    "Each run took  very little time, typically about a second, which is a fair bit faster than the time it took to convert and load the data into Weka"
   ]
  }
 ],
 "metadata": {
  "kernelspec": {
   "display_name": "Python 3 (ipykernel)",
   "language": "python",
   "name": "python3"
  },
  "language_info": {
   "codemirror_mode": {
    "name": "ipython",
    "version": 3
   },
   "file_extension": ".py",
   "mimetype": "text/x-python",
   "name": "python",
   "nbconvert_exporter": "python",
   "pygments_lexer": "ipython3",
   "version": "3.9.12"
  }
 },
 "nbformat": 4,
 "nbformat_minor": 5
}
