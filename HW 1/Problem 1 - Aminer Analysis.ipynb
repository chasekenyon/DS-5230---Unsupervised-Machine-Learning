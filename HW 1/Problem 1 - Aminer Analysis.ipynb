{
 "cells": [
  {
   "cell_type": "markdown",
   "id": "78463b24",
   "metadata": {},
   "source": [
    "# Homework 1"
   ]
  },
  {
   "cell_type": "markdown",
   "id": "a9404fdf",
   "metadata": {},
   "source": [
    "## Problem 1"
   ]
  },
  {
   "cell_type": "code",
   "execution_count": 1,
   "id": "2355284f",
   "metadata": {},
   "outputs": [],
   "source": [
    "import numpy as np\n",
    "import pandas as pd"
   ]
  },
  {
   "cell_type": "code",
   "execution_count": 2,
   "id": "8a6ddd78",
   "metadata": {},
   "outputs": [],
   "source": [
    "#setup initial DF\n",
    "df = pd.DataFrame(columns = ['Index', #index 00\n",
    "                   'Title', #*\n",
    "                   'Authors', #@\n",
    "                   'Year', #t\n",
    "                   'Publication Venue', #c\n",
    "                   'References', #%\n",
    "                   'Abstract' #!\n",
    "])"
   ]
  },
  {
   "cell_type": "code",
   "execution_count": 3,
   "id": "ce135d31",
   "metadata": {},
   "outputs": [
    {
     "data": {
      "text/plain": [
       "<function TextIOWrapper.close()>"
      ]
     },
     "execution_count": 3,
     "metadata": {},
     "output_type": "execute_result"
    }
   ],
   "source": [
    "#loading AMiner data\n",
    "file1 = open('C:/Users/chase/OneDrive/Northeastern Code/DS 5230/Hw 1/acm.txt', encoding=\"utf-8\")\n",
    "lines = file1.readlines()\n",
    "file1.close"
   ]
  },
  {
   "cell_type": "code",
   "execution_count": 4,
   "id": "8a1b0c14",
   "metadata": {},
   "outputs": [],
   "source": [
    "#parsing function determines tag of each line and creates pandas dataframe of all publications\n",
    "def parselines(lines, begin, end):\n",
    "  index = ''\n",
    "  title = ''\n",
    "  authors = []\n",
    "  year = ''\n",
    "  pub = ''\n",
    "  refs = []\n",
    "  abstract = ''\n",
    "\n",
    "  for line in lines[begin:end]:\n",
    "    if line[:2] == '#i':\n",
    "      index = line[6:len(line)-1]\n",
    "    elif line[:2] == '#*':\n",
    "      title = line[2:len(line)-1]\n",
    "    elif line[:2] == '#@':\n",
    "      line = (line[2:len(line)-1])\n",
    "      authors = line.split(\",\")\n",
    "    elif line[:2] == '#t':\n",
    "      year = line[2:len(line)-1]\n",
    "    elif line[:2] == '#c':\n",
    "      pub = line[2:len(line)-1]\n",
    "    elif line[:2] == '#%':\n",
    "      line = (line[2:len(line)-1])\n",
    "      refs.append(line)\n",
    "    elif line[:2] == '#!':\n",
    "      abstract = line[2:len(line)-1]\n",
    "    else:\n",
    "      print(\"line parsing error\")\n",
    "\n",
    "  new_row = {\n",
    "      \"Index\": index, \n",
    "      \"Title\": title,\n",
    "      \"Authors\": authors,\n",
    "      \"Year\": year,\n",
    "      \"Publication Venue\": pub,\n",
    "      \"References\": refs,\n",
    "      \"Abstract\": abstract\n",
    "  }\n",
    "  df_list.append(new_row)"
   ]
  },
  {
   "cell_type": "code",
   "execution_count": 5,
   "id": "6f7eac3c",
   "metadata": {},
   "outputs": [],
   "source": [
    "#calls above function\n",
    "start = 0\n",
    "end = 0\n",
    "df_list = []\n",
    "for line in lines:\n",
    "  if line == '\\n':\n",
    "#    print(f\"start: {start}, end: {end}, lines: {lines[start:end]}\")\n",
    "    parselines(lines, start, end)\n",
    "    start = end+1\n",
    "  end += 1"
   ]
  },
  {
   "cell_type": "code",
   "execution_count": 6,
   "id": "79792976",
   "metadata": {},
   "outputs": [],
   "source": [
    "#data cleanup\n",
    "df = pd.DataFrame(df_list)\n",
    "df.References = df.References.apply(lambda y: np.nan if len(y)==0 else y)\n",
    "df.Index = df.Index.astype(int)"
   ]
  },
  {
   "cell_type": "markdown",
   "id": "7a6581fb",
   "metadata": {},
   "source": [
    "### A\n",
    "Compute the number of distinct authors, publication venues, publications, and citations/references"
   ]
  },
  {
   "cell_type": "code",
   "execution_count": 7,
   "id": "64a09a87",
   "metadata": {},
   "outputs": [
    {
     "name": "stdout",
     "output_type": "stream",
     "text": [
      "Unique Authors: 2027029\n",
      "Unique Publication Venue: 273330\n",
      "Unique References: 9671893\n",
      "Unique Publications: 2183552\n"
     ]
    }
   ],
   "source": [
    "print(f\"Unique Authors: {df['Authors'].explode().nunique()}\")\n",
    "print(f\"Unique Publication Venue: {df['Publication Venue'].nunique()}\")\n",
    "print(f\"Unique References: {df['References'].explode().count()}\")\n",
    "print(f\"Unique Publications: {df['Title'].nunique()}\")"
   ]
  },
  {
   "cell_type": "markdown",
   "id": "9e70eb78",
   "metadata": {},
   "source": [
    "### B\n",
    "Are these numbers likely to be accurate? As an example look up all the publications venue names associated with the conference “Principles and Practice of Knowledge Discovery in Databases” – what do you notice?"
   ]
  },
  {
   "cell_type": "code",
   "execution_count": 8,
   "id": "4b6279b3",
   "metadata": {},
   "outputs": [
    {
     "data": {
      "text/html": [
       "<div>\n",
       "<style scoped>\n",
       "    .dataframe tbody tr th:only-of-type {\n",
       "        vertical-align: middle;\n",
       "    }\n",
       "\n",
       "    .dataframe tbody tr th {\n",
       "        vertical-align: top;\n",
       "    }\n",
       "\n",
       "    .dataframe thead th {\n",
       "        text-align: right;\n",
       "    }\n",
       "</style>\n",
       "<table border=\"1\" class=\"dataframe\">\n",
       "  <thead>\n",
       "    <tr style=\"text-align: right;\">\n",
       "      <th></th>\n",
       "      <th>Index</th>\n",
       "      <th>Title</th>\n",
       "      <th>Authors</th>\n",
       "      <th>Year</th>\n",
       "      <th>Publication Venue</th>\n",
       "      <th>References</th>\n",
       "      <th>Abstract</th>\n",
       "    </tr>\n",
       "  </thead>\n",
       "  <tbody>\n",
       "    <tr>\n",
       "      <th>799595</th>\n",
       "      <td>799596</td>\n",
       "      <td>Summarization of dynamic content in web collec...</td>\n",
       "      <td>[Adam Jatowt,  Mitsuru Ishizuka]</td>\n",
       "      <td>2004</td>\n",
       "      <td>PKDD '04 Proceedings of the 8th European Confe...</td>\n",
       "      <td>[168250, 207271, 217577, 272248, 287615, 35790...</td>\n",
       "      <td>This paper describes a new research proposal o...</td>\n",
       "    </tr>\n",
       "    <tr>\n",
       "      <th>799732</th>\n",
       "      <td>799733</td>\n",
       "      <td>Proceedings of the 8th European Conference on ...</td>\n",
       "      <td>[Jean-François Boulicaut,  Floriana Esposito, ...</td>\n",
       "      <td>2004</td>\n",
       "      <td>PKDD '04 Proceedings of the 8th European Confe...</td>\n",
       "      <td>NaN</td>\n",
       "      <td></td>\n",
       "    </tr>\n",
       "    <tr>\n",
       "      <th>799733</th>\n",
       "      <td>799734</td>\n",
       "      <td>Random matrices in data analysis</td>\n",
       "      <td>[Dimitris Achlioptas]</td>\n",
       "      <td>2004</td>\n",
       "      <td>PKDD '04 Proceedings of the 8th European Confe...</td>\n",
       "      <td>NaN</td>\n",
       "      <td>We show how carefully crafted random matrices ...</td>\n",
       "    </tr>\n",
       "    <tr>\n",
       "      <th>799734</th>\n",
       "      <td>799735</td>\n",
       "      <td>Data privacy</td>\n",
       "      <td>[Rakesh Agrawal]</td>\n",
       "      <td>2004</td>\n",
       "      <td>PKDD '04 Proceedings of the 8th European Confe...</td>\n",
       "      <td>NaN</td>\n",
       "      <td>There is increasing need to build information ...</td>\n",
       "    </tr>\n",
       "    <tr>\n",
       "      <th>799735</th>\n",
       "      <td>799736</td>\n",
       "      <td>Breaking through the syntax barrier: searching...</td>\n",
       "      <td>[Soumen Chakrabarti]</td>\n",
       "      <td>2004</td>\n",
       "      <td>PKDD '04 Proceedings of the 8th European Confe...</td>\n",
       "      <td>NaN</td>\n",
       "      <td>The next wave in search technology will be dri...</td>\n",
       "    </tr>\n",
       "    <tr>\n",
       "      <th>...</th>\n",
       "      <td>...</td>\n",
       "      <td>...</td>\n",
       "      <td>...</td>\n",
       "      <td>...</td>\n",
       "      <td>...</td>\n",
       "      <td>...</td>\n",
       "      <td>...</td>\n",
       "    </tr>\n",
       "    <tr>\n",
       "      <th>1673617</th>\n",
       "      <td>1673618</td>\n",
       "      <td>Speeding up logistic model tree induction</td>\n",
       "      <td>[Marc Sumner,  Eibe Frank,  Mark Hall]</td>\n",
       "      <td>2005</td>\n",
       "      <td>PKDD'05 Proceedings of the 9th European confer...</td>\n",
       "      <td>[136349, 290481, 810934, 2135000]</td>\n",
       "      <td>Logistic Model Trees have been shown to be ver...</td>\n",
       "    </tr>\n",
       "    <tr>\n",
       "      <th>1673618</th>\n",
       "      <td>1673619</td>\n",
       "      <td>A random method for quantifying changing distr...</td>\n",
       "      <td>[Haixun Wang,  Jian Pei]</td>\n",
       "      <td>2005</td>\n",
       "      <td>PKDD'05 Proceedings of the 9th European confer...</td>\n",
       "      <td>[115607, 342599, 400846, 424996, 443615, 48145...</td>\n",
       "      <td>In applications such as fraud and intrusion de...</td>\n",
       "    </tr>\n",
       "    <tr>\n",
       "      <th>1673619</th>\n",
       "      <td>1673620</td>\n",
       "      <td>Deriving class association rules based on leve...</td>\n",
       "      <td>[Takashi Washio,  Koutarou Nakanishi,  Hiroshi...</td>\n",
       "      <td>2005</td>\n",
       "      <td>PKDD'05 Proceedings of the 9th European confer...</td>\n",
       "      <td>[210159, 248791, 397383, 466482, 481289, 54604...</td>\n",
       "      <td>Most approaches of Class Association Rule (CAR...</td>\n",
       "    </tr>\n",
       "    <tr>\n",
       "      <th>1673620</th>\n",
       "      <td>1673621</td>\n",
       "      <td>An incremental algorithm for mining generators...</td>\n",
       "      <td>[Lijun Xu,  Kanglin Xie]</td>\n",
       "      <td>2005</td>\n",
       "      <td>PKDD'05 Proceedings of the 9th European confer...</td>\n",
       "      <td>[280466, 464203, 466663, 481289, 511332, 54669...</td>\n",
       "      <td>This paper presents an efficient algorithm for...</td>\n",
       "    </tr>\n",
       "    <tr>\n",
       "      <th>1673621</th>\n",
       "      <td>1673622</td>\n",
       "      <td>Hybrid technique for artificial neural network...</td>\n",
       "      <td>[Cleber Zanchettin,  Teresa Bernarda Ludermir]</td>\n",
       "      <td>2005</td>\n",
       "      <td>PKDD'05 Proceedings of the 9th European confer...</td>\n",
       "      <td>[11719, 36407, 369235, 386198, 388153, 465881,...</td>\n",
       "      <td>This work presents a technique that integrates...</td>\n",
       "    </tr>\n",
       "  </tbody>\n",
       "</table>\n",
       "<p>212 rows × 7 columns</p>\n",
       "</div>"
      ],
      "text/plain": [
       "           Index                                              Title  \\\n",
       "799595    799596  Summarization of dynamic content in web collec...   \n",
       "799732    799733  Proceedings of the 8th European Conference on ...   \n",
       "799733    799734                   Random matrices in data analysis   \n",
       "799734    799735                                       Data privacy   \n",
       "799735    799736  Breaking through the syntax barrier: searching...   \n",
       "...          ...                                                ...   \n",
       "1673617  1673618          Speeding up logistic model tree induction   \n",
       "1673618  1673619  A random method for quantifying changing distr...   \n",
       "1673619  1673620  Deriving class association rules based on leve...   \n",
       "1673620  1673621  An incremental algorithm for mining generators...   \n",
       "1673621  1673622  Hybrid technique for artificial neural network...   \n",
       "\n",
       "                                                   Authors  Year  \\\n",
       "799595                    [Adam Jatowt,  Mitsuru Ishizuka]  2004   \n",
       "799732   [Jean-François Boulicaut,  Floriana Esposito, ...  2004   \n",
       "799733                               [Dimitris Achlioptas]  2004   \n",
       "799734                                    [Rakesh Agrawal]  2004   \n",
       "799735                                [Soumen Chakrabarti]  2004   \n",
       "...                                                    ...   ...   \n",
       "1673617             [Marc Sumner,  Eibe Frank,  Mark Hall]  2005   \n",
       "1673618                           [Haixun Wang,  Jian Pei]  2005   \n",
       "1673619  [Takashi Washio,  Koutarou Nakanishi,  Hiroshi...  2005   \n",
       "1673620                           [Lijun Xu,  Kanglin Xie]  2005   \n",
       "1673621     [Cleber Zanchettin,  Teresa Bernarda Ludermir]  2005   \n",
       "\n",
       "                                         Publication Venue  \\\n",
       "799595   PKDD '04 Proceedings of the 8th European Confe...   \n",
       "799732   PKDD '04 Proceedings of the 8th European Confe...   \n",
       "799733   PKDD '04 Proceedings of the 8th European Confe...   \n",
       "799734   PKDD '04 Proceedings of the 8th European Confe...   \n",
       "799735   PKDD '04 Proceedings of the 8th European Confe...   \n",
       "...                                                    ...   \n",
       "1673617  PKDD'05 Proceedings of the 9th European confer...   \n",
       "1673618  PKDD'05 Proceedings of the 9th European confer...   \n",
       "1673619  PKDD'05 Proceedings of the 9th European confer...   \n",
       "1673620  PKDD'05 Proceedings of the 9th European confer...   \n",
       "1673621  PKDD'05 Proceedings of the 9th European confer...   \n",
       "\n",
       "                                                References  \\\n",
       "799595   [168250, 207271, 217577, 272248, 287615, 35790...   \n",
       "799732                                                 NaN   \n",
       "799733                                                 NaN   \n",
       "799734                                                 NaN   \n",
       "799735                                                 NaN   \n",
       "...                                                    ...   \n",
       "1673617                  [136349, 290481, 810934, 2135000]   \n",
       "1673618  [115607, 342599, 400846, 424996, 443615, 48145...   \n",
       "1673619  [210159, 248791, 397383, 466482, 481289, 54604...   \n",
       "1673620  [280466, 464203, 466663, 481289, 511332, 54669...   \n",
       "1673621  [11719, 36407, 369235, 386198, 388153, 465881,...   \n",
       "\n",
       "                                                  Abstract  \n",
       "799595   This paper describes a new research proposal o...  \n",
       "799732                                                      \n",
       "799733   We show how carefully crafted random matrices ...  \n",
       "799734   There is increasing need to build information ...  \n",
       "799735   The next wave in search technology will be dri...  \n",
       "...                                                    ...  \n",
       "1673617  Logistic Model Trees have been shown to be ver...  \n",
       "1673618  In applications such as fraud and intrusion de...  \n",
       "1673619  Most approaches of Class Association Rule (CAR...  \n",
       "1673620  This paper presents an efficient algorithm for...  \n",
       "1673621  This work presents a technique that integrates...  \n",
       "\n",
       "[212 rows x 7 columns]"
      ]
     },
     "execution_count": 8,
     "metadata": {},
     "output_type": "execute_result"
    }
   ],
   "source": [
    "df.loc[df['Publication Venue'].str.contains(\"Principles and Practice of Knowledge Discovery in Databases\")]"
   ]
  },
  {
   "cell_type": "markdown",
   "id": "fa5d2907",
   "metadata": {},
   "source": [
    "We notice many \"distinct\" values of publication venue appear to be from different years of the same conference, or the same year but with different names, which may not be accurate for our purposes."
   ]
  },
  {
   "cell_type": "markdown",
   "id": "35c60259",
   "metadata": {},
   "source": [
    "### C\n",
    "For each author, construct the list of publications. Plot a histogram of the number of publications per author (use a logarithmic scale on the y axis)"
   ]
  },
  {
   "cell_type": "code",
   "execution_count": 9,
   "id": "b8fb0e2a",
   "metadata": {},
   "outputs": [],
   "source": [
    "import matplotlib.pyplot as plt"
   ]
  },
  {
   "cell_type": "code",
   "execution_count": 10,
   "id": "f6e5988d",
   "metadata": {},
   "outputs": [],
   "source": [
    "#create series of Authors and counts of publications\n",
    "test = pd.Series([x for item in df.Authors for x in item]).value_counts()"
   ]
  },
  {
   "cell_type": "code",
   "execution_count": 11,
   "id": "ab841ca5",
   "metadata": {},
   "outputs": [
    {
     "data": {
      "text/plain": [
       "<AxesSubplot: title={'center': 'Histogram of Publications per Author'}, xlabel='Authors', ylabel='Publications'>"
      ]
     },
     "execution_count": 11,
     "metadata": {},
     "output_type": "execute_result"
    },
    {
     "data": {
      "image/png": "[encoded data removed]",
      "text/plain": [
       "<Figure size 640x480 with 1 Axes>"
      ]
     },
     "metadata": {},
     "output_type": "display_data"
    }
   ],
   "source": [
    "plt.xlabel('Authors')\n",
    "plt.ylabel('Publications')\n",
    "plt.title('Histogram of Publications per Author')\n",
    "plt.grid(True)\n",
    "test.hist(bins = 50, log = True)"
   ]
  },
  {
   "cell_type": "markdown",
   "id": "52480c1b",
   "metadata": {},
   "source": [
    "### D\n",
    "Calculate the mean and standard deviation of the number of publications per author. Also calculate the Q1 (1st quartile14), Q2 (2nd quartile, or median) and Q3 (3rd quartile) values. Compare the median to the mean and explain the difference between the two values based on the standard deviation and the 1st and 3rd quartiles."
   ]
  },
  {
   "cell_type": "code",
   "execution_count": 12,
   "id": "2f00ef37",
   "metadata": {},
   "outputs": [],
   "source": [
    "#expanding authors lists\n",
    "df2 = df.explode('Authors')"
   ]
  },
  {
   "cell_type": "code",
   "execution_count": 13,
   "id": "b14fc585",
   "metadata": {},
   "outputs": [],
   "source": [
    "#removing blank values\n",
    "df2 = df2[(df2['Authors'] != '') & (df2['Authors'].str.contains('-') == False) & (~df2['Authors'].isnull()) ]"
   ]
  },
  {
   "cell_type": "code",
   "execution_count": 14,
   "id": "4448878c",
   "metadata": {},
   "outputs": [],
   "source": [
    "#expanding references lists\n",
    "df2 = df2.explode('References')"
   ]
  },
  {
   "cell_type": "code",
   "execution_count": 15,
   "id": "7b6e96e3",
   "metadata": {},
   "outputs": [
    {
     "name": "stdout",
     "output_type": "stream",
     "text": [
      "Mean Publications per Author: 2.821294120607056\n",
      "Standard Deviation of Publications per Authors: 9.934478980495243\n",
      "First Quartile Publications per Author: 1.0\n",
      "Median Publications per Author: 1.0\n",
      "Third Quartile Publications per Author: 2.0\n"
     ]
    }
   ],
   "source": [
    "print(f\"Mean Publications per Author: {test.mean()}\")\n",
    "print(f\"Standard Deviation of Publications per Authors: {test.std()}\")\n",
    "print(f\"First Quartile Publications per Author: {test.quantile(.25)}\")\n",
    "print(f\"Median Publications per Author: {test.median()}\")\n",
    "print(f\"Third Quartile Publications per Author: {test.quantile(.75)}\")"
   ]
  },
  {
   "cell_type": "markdown",
   "id": "fbd16f6e",
   "metadata": {},
   "source": [
    "From the first and second quartiles of 1, we can infer that most of the authors in the dataset have only a single publication, with the next quartile of 2 showing that most authors in this dataset don't have large numbers of publications. This supports the slighly higher mean, which is likely higher due to the small number of authors with very high numbers of publications."
   ]
  },
  {
   "cell_type": "markdown",
   "id": "acac5782",
   "metadata": {},
   "source": [
    "### E\n",
    "Now plot a histogram of the number of publications per venue, as well as calculate the mean, standard deviation, median, Q1, and Q3 values. What is the venue with the largest number of publications in the dataset?"
   ]
  },
  {
   "cell_type": "code",
   "execution_count": 16,
   "id": "bd144628",
   "metadata": {},
   "outputs": [],
   "source": [
    "#creating series of venues and counts\n",
    "pubs = pd.Series(df['Publication Venue']).value_counts()"
   ]
  },
  {
   "cell_type": "code",
   "execution_count": 48,
   "id": "e13bc5f3",
   "metadata": {},
   "outputs": [
    {
     "data": {
      "text/plain": [
       "<AxesSubplot: title={'center': 'Histogram of Publications per Venue'}, xlabel='Venues', ylabel='Publications'>"
      ]
     },
     "execution_count": 48,
     "metadata": {},
     "output_type": "execute_result"
    },
    {
     "data": {
      "image/png": "[encoded data removed]",
      "text/plain": [
       "<Figure size 640x480 with 1 Axes>"
      ]
     },
     "metadata": {},
     "output_type": "display_data"
    }
   ],
   "source": [
    "plt.xlabel('Venues')\n",
    "plt.ylabel('Publications')\n",
    "plt.title('Histogram of Publications per Venue')\n",
    "plt.grid(True)\n",
    "pubs.hist(bins = 50, log = True)"
   ]
  },
  {
   "cell_type": "code",
   "execution_count": 18,
   "id": "1ed65e0e",
   "metadata": {},
   "outputs": [
    {
     "name": "stdout",
     "output_type": "stream",
     "text": [
      "Mean Publications per Venue: 8.725957633629678\n",
      "Standard Deviation of Publications per Venue: 106.79612093241556\n",
      "First Quartile Publications per Venue: 1.0\n",
      "Median Publications per Venue: 1.0\n",
      "Third Quartile Publications per Venue: 1.0\n"
     ]
    }
   ],
   "source": [
    "print(f\"Mean Publications per Venue: {pubs.mean()}\")\n",
    "print(f\"Standard Deviation of Publications per Venue: {pubs.std()}\")\n",
    "print(f\"First Quartile Publications per Venue: {pubs.quantile(.25)}\")\n",
    "print(f\"Median Publications per Venue: {pubs.median()}\")\n",
    "print(f\"Third Quartile Publications per Venue: {pubs.quantile(.75)}\")"
   ]
  },
  {
   "cell_type": "markdown",
   "id": "bb299f92",
   "metadata": {},
   "source": [
    "We can above see that the venue with the largest number of publications is the IEEE Transactions on Information Theory venue."
   ]
  },
  {
   "cell_type": "markdown",
   "id": "90b3a830",
   "metadata": {},
   "source": [
    "### F\n",
    "Plot a histogram of the number of references (number of publications a publication refers to) and citations (number of publications referring to a publication) per publication. What is the publication with the largest number of references? What is the publication with the largest number of citations? Do these make sense?"
   ]
  },
  {
   "cell_type": "code",
   "execution_count": 19,
   "id": "4ba76176",
   "metadata": {},
   "outputs": [],
   "source": [
    "#expand references lists and group by index, then count references\n",
    "refs = df.explode(['References']).groupby(['Index']).count()"
   ]
  },
  {
   "cell_type": "code",
   "execution_count": 20,
   "id": "19dc67fb",
   "metadata": {},
   "outputs": [
    {
     "data": {
      "text/plain": [
       "Index\n",
       "1            0\n",
       "1322906      0\n",
       "1322905      0\n",
       "1322904      0\n",
       "1322903      0\n",
       "          ... \n",
       "1376719    525\n",
       "1583652    528\n",
       "1221203    556\n",
       "719352     773\n",
       "2015217    809\n",
       "Name: References, Length: 2385057, dtype: int64"
      ]
     },
     "execution_count": 20,
     "metadata": {},
     "output_type": "execute_result"
    }
   ],
   "source": [
    "refs['References'].sort_values()"
   ]
  },
  {
   "cell_type": "code",
   "execution_count": 21,
   "id": "ca409a88",
   "metadata": {},
   "outputs": [
    {
     "data": {
      "text/plain": [
       "<AxesSubplot: title={'center': 'Histogram of References'}>"
      ]
     },
     "execution_count": 21,
     "metadata": {},
     "output_type": "execute_result"
    },
    {
     "data": {
      "image/png": "[encoded data removed]",
      "text/plain": [
       "<Figure size 640x480 with 1 Axes>"
      ]
     },
     "metadata": {},
     "output_type": "display_data"
    }
   ],
   "source": [
    "plt.title('Histogram of References')\n",
    "plt.grid(True)\n",
    "refs['References'].hist(bins = 50, log = True)"
   ]
  },
  {
   "cell_type": "code",
   "execution_count": 22,
   "id": "6585af83",
   "metadata": {},
   "outputs": [],
   "source": [
    "#expand references lists\n",
    "cites = df.explode('References')"
   ]
  },
  {
   "cell_type": "code",
   "execution_count": 23,
   "id": "508fe8bc",
   "metadata": {},
   "outputs": [],
   "source": [
    "cites.References = cites.References.astype('Int64')"
   ]
  },
  {
   "cell_type": "code",
   "execution_count": 24,
   "id": "00c2531e",
   "metadata": {},
   "outputs": [],
   "source": [
    "#calculate citations per publication\n",
    "cites = cites.groupby(['References']).size()"
   ]
  },
  {
   "cell_type": "code",
   "execution_count": 25,
   "id": "968b35a9",
   "metadata": {},
   "outputs": [
    {
     "data": {
      "text/plain": [
       "References\n",
       "2383389         1\n",
       "1306819         1\n",
       "514141          1\n",
       "1306829         1\n",
       "1306830         1\n",
       "            ...  \n",
       "190580       5297\n",
       "369235       6526\n",
       "408395       8620\n",
       "2381731     82080\n",
       "2135000    938039\n",
       "Length: 1007495, dtype: int64"
      ]
     },
     "execution_count": 25,
     "metadata": {},
     "output_type": "execute_result"
    }
   ],
   "source": [
    "cites.sort_values()"
   ]
  },
  {
   "cell_type": "code",
   "execution_count": 26,
   "id": "8954225b",
   "metadata": {},
   "outputs": [
    {
     "data": {
      "text/plain": [
       "<AxesSubplot: title={'center': 'Histogram of Citations'}>"
      ]
     },
     "execution_count": 26,
     "metadata": {},
     "output_type": "execute_result"
    },
    {
     "data": {
      "image/png": "[encoded data removed]",
      "text/plain": [
       "<Figure size 640x480 with 1 Axes>"
      ]
     },
     "metadata": {},
     "output_type": "display_data"
    }
   ],
   "source": [
    "plt.title('Histogram of Citations')\n",
    "plt.grid(True)\n",
    "cites.hist(bins = 50, log = True)"
   ]
  },
  {
   "cell_type": "markdown",
   "id": "2d677070",
   "metadata": {},
   "source": [
    "The Publication with the largest number of references is Index 2015217 with 809 references.\n",
    "<br>\n",
    "The Publication with the largest number of citations (publications referring to it) is publication Index 2135000 with 938039 citations."
   ]
  },
  {
   "cell_type": "markdown",
   "id": "21e8c7ff",
   "metadata": {},
   "source": [
    "### G\n",
    "Calculate the so called “impact” factor for each venue. To do so, calculate the total number of citations for the publications in the venue, and then divide this number by the number of publications for the venue. Plot a histogram of the results"
   ]
  },
  {
   "cell_type": "code",
   "execution_count": 49,
   "id": "73271ba6",
   "metadata": {},
   "outputs": [],
   "source": [
    "#Create df of publications, Indices, and counts to join citations data to\n",
    "pubJoin = pd.DataFrame(df.groupby(['Publication Venue', 'Index'], dropna = True).size().sort_values().reset_index(name = 'count').replace('', np.nan).dropna()).sort_values('Publication Venue')"
   ]
  },
  {
   "cell_type": "code",
   "execution_count": 52,
   "id": "4615871c",
   "metadata": {},
   "outputs": [],
   "source": [
    "#join citation counts\n",
    "pubJoin = pubJoin.join(pd.DataFrame(cites)).sort_values('count').dropna()"
   ]
  },
  {
   "cell_type": "code",
   "execution_count": 54,
   "id": "b01caaa8",
   "metadata": {},
   "outputs": [],
   "source": [
    "pubJoin = pubJoin.rename(columns={0: \"total\"})"
   ]
  },
  {
   "cell_type": "code",
   "execution_count": 56,
   "id": "c262158f",
   "metadata": {},
   "outputs": [],
   "source": [
    "#calculate sum of citations for publications in venue\n",
    "sums = pd.DataFrame(pubJoin[['Publication Venue', 'total']].groupby('Publication Venue').sum().sort_values('total'))"
   ]
  },
  {
   "cell_type": "code",
   "execution_count": 57,
   "id": "cb194464",
   "metadata": {},
   "outputs": [],
   "source": [
    "#calculate counts of citations for publications in venue\n",
    "counts = pd.DataFrame(pubJoin[['Publication Venue', 'total']].groupby('Publication Venue').count()).sort_values('total')"
   ]
  },
  {
   "cell_type": "code",
   "execution_count": 60,
   "id": "0aca4d92",
   "metadata": {},
   "outputs": [],
   "source": [
    "#combine sums and counts by venue\n",
    "final = pd.merge(sums, counts, on = ['Publication Venue'])"
   ]
  },
  {
   "cell_type": "code",
   "execution_count": 62,
   "id": "908e805b",
   "metadata": {},
   "outputs": [],
   "source": [
    "#calculate impact\n",
    "final['Impact'] = final['total_x'] / final['total_y']"
   ]
  },
  {
   "cell_type": "code",
   "execution_count": 64,
   "id": "64ef624d",
   "metadata": {},
   "outputs": [],
   "source": [
    "#sort\n",
    "final = final.sort_values(['Impact'])"
   ]
  },
  {
   "cell_type": "code",
   "execution_count": 35,
   "id": "5003d3eb",
   "metadata": {},
   "outputs": [
    {
     "data": {
      "text/plain": [
       "<AxesSubplot: title={'center': 'Histogram of Venue Impacts'}>"
      ]
     },
     "execution_count": 35,
     "metadata": {},
     "output_type": "execute_result"
    },
    {
     "data": {
      "image/png": "[encoded data removed]",
      "text/plain": [
       "<Figure size 640x480 with 1 Axes>"
      ]
     },
     "metadata": {},
     "output_type": "display_data"
    }
   ],
   "source": [
    "plt.title('Histogram of Venue Impacts')\n",
    "plt.grid(True)\n",
    "final['Impact'].hist(bins = 50, log = True)"
   ]
  },
  {
   "cell_type": "code",
   "execution_count": 65,
   "id": "821100f4",
   "metadata": {},
   "outputs": [
    {
     "data": {
      "text/html": [
       "<div>\n",
       "<style scoped>\n",
       "    .dataframe tbody tr th:only-of-type {\n",
       "        vertical-align: middle;\n",
       "    }\n",
       "\n",
       "    .dataframe tbody tr th {\n",
       "        vertical-align: top;\n",
       "    }\n",
       "\n",
       "    .dataframe thead th {\n",
       "        text-align: right;\n",
       "    }\n",
       "</style>\n",
       "<table border=\"1\" class=\"dataframe\">\n",
       "  <thead>\n",
       "    <tr style=\"text-align: right;\">\n",
       "      <th></th>\n",
       "      <th>total_x</th>\n",
       "      <th>total_y</th>\n",
       "      <th>Impact</th>\n",
       "    </tr>\n",
       "    <tr>\n",
       "      <th>Publication Venue</th>\n",
       "      <th></th>\n",
       "      <th></th>\n",
       "      <th></th>\n",
       "    </tr>\n",
       "  </thead>\n",
       "  <tbody>\n",
       "    <tr>\n",
       "      <th>!%@:: a directory of electronic mail addressing and networks: second edition</th>\n",
       "      <td>1.0</td>\n",
       "      <td>1</td>\n",
       "      <td>1.000000</td>\n",
       "    </tr>\n",
       "    <tr>\n",
       "      <th>UIST 88 Symposium on User Interface Software</th>\n",
       "      <td>1.0</td>\n",
       "      <td>1</td>\n",
       "      <td>1.000000</td>\n",
       "    </tr>\n",
       "    <tr>\n",
       "      <th>Advances in Web-Age Information Management: 5th International Conference, WAIM 2004, Dalian, China, July 15-17, 2004, Proceedings (Lecture Notes in Computer Science)</th>\n",
       "      <td>1.0</td>\n",
       "      <td>1</td>\n",
       "      <td>1.000000</td>\n",
       "    </tr>\n",
       "    <tr>\n",
       "      <th>UDS: A UNIVERSAL DATA STRUCTURE</th>\n",
       "      <td>1.0</td>\n",
       "      <td>1</td>\n",
       "      <td>1.000000</td>\n",
       "    </tr>\n",
       "    <tr>\n",
       "      <th>Advances in Wireless Networks: Performance Modelling, Analysis and Enhancement</th>\n",
       "      <td>1.0</td>\n",
       "      <td>1</td>\n",
       "      <td>1.000000</td>\n",
       "    </tr>\n",
       "    <tr>\n",
       "      <th>...</th>\n",
       "      <td>...</td>\n",
       "      <td>...</td>\n",
       "      <td>...</td>\n",
       "    </tr>\n",
       "    <tr>\n",
       "      <th>Personal Computers for the Computer Illiterate: The What when why Where and how Guide to Understanding, Buying and Using</th>\n",
       "      <td>2111.0</td>\n",
       "      <td>1</td>\n",
       "      <td>2111.000000</td>\n",
       "    </tr>\n",
       "    <tr>\n",
       "      <th>Safe Sites Internet Yellow Pages</th>\n",
       "      <td>2388.0</td>\n",
       "      <td>1</td>\n",
       "      <td>2388.000000</td>\n",
       "    </tr>\n",
       "    <tr>\n",
       "      <th>MCTS Self-Paced Training Kit (Exam 70-511): Windows Application Development with Microsoft .NET Framework 4</th>\n",
       "      <td>3452.0</td>\n",
       "      <td>1</td>\n",
       "      <td>3452.000000</td>\n",
       "    </tr>\n",
       "    <tr>\n",
       "      <th>Finite Fields and Their Applications</th>\n",
       "      <td>938102.0</td>\n",
       "      <td>48</td>\n",
       "      <td>19543.791667</td>\n",
       "    </tr>\n",
       "    <tr>\n",
       "      <th>HICS '96 Proceedings of the 3rd Symposium on Human Interaction with Complex Systems (HICS '96)</th>\n",
       "      <td>82080.0</td>\n",
       "      <td>1</td>\n",
       "      <td>82080.000000</td>\n",
       "    </tr>\n",
       "  </tbody>\n",
       "</table>\n",
       "<p>142628 rows × 3 columns</p>\n",
       "</div>"
      ],
      "text/plain": [
       "                                                     total_x  total_y  \\\n",
       "Publication Venue                                                       \n",
       "!%@:: a directory of electronic mail addressing...       1.0        1   \n",
       "UIST 88 Symposium on User Interface Software             1.0        1   \n",
       "Advances in Web-Age Information Management: 5th...       1.0        1   \n",
       "UDS: A UNIVERSAL DATA STRUCTURE                          1.0        1   \n",
       "Advances in Wireless Networks: Performance Mode...       1.0        1   \n",
       "...                                                      ...      ...   \n",
       "Personal Computers for the Computer Illiterate:...    2111.0        1   \n",
       "Safe Sites Internet Yellow Pages                      2388.0        1   \n",
       "MCTS Self-Paced Training Kit (Exam 70-511): Win...    3452.0        1   \n",
       "Finite Fields and Their Applications                938102.0       48   \n",
       "HICS '96 Proceedings of the 3rd Symposium on Hu...   82080.0        1   \n",
       "\n",
       "                                                          Impact  \n",
       "Publication Venue                                                 \n",
       "!%@:: a directory of electronic mail addressing...      1.000000  \n",
       "UIST 88 Symposium on User Interface Software            1.000000  \n",
       "Advances in Web-Age Information Management: 5th...      1.000000  \n",
       "UDS: A UNIVERSAL DATA STRUCTURE                         1.000000  \n",
       "Advances in Wireless Networks: Performance Mode...      1.000000  \n",
       "...                                                          ...  \n",
       "Personal Computers for the Computer Illiterate:...   2111.000000  \n",
       "Safe Sites Internet Yellow Pages                     2388.000000  \n",
       "MCTS Self-Paced Training Kit (Exam 70-511): Win...   3452.000000  \n",
       "Finite Fields and Their Applications                19543.791667  \n",
       "HICS '96 Proceedings of the 3rd Symposium on Hu...  82080.000000  \n",
       "\n",
       "[142628 rows x 3 columns]"
      ]
     },
     "execution_count": 65,
     "metadata": {},
     "output_type": "execute_result"
    }
   ],
   "source": [
    "final"
   ]
  },
  {
   "cell_type": "markdown",
   "id": "9b559a4a",
   "metadata": {},
   "source": [
    "### H\n",
    "What is the venue with the highest apparent impact factor? Do you believe this number?(http://mdanderson.libanswers.com/faq/26159)"
   ]
  },
  {
   "cell_type": "markdown",
   "id": "8234292a",
   "metadata": {},
   "source": [
    "HICS '96 Proceedings of the 3rd Symposium on Human Interaction with Complex Systems (HICS '96)\thas the most impacts at 82080\n",
    "<br>\n",
    "This does not seem very reasonable, and is likely due to the single publication we have for this venue."
   ]
  },
  {
   "cell_type": "markdown",
   "id": "87b1fec5",
   "metadata": {},
   "source": [
    "### I\n",
    "Now repeat the calculation from item b., but restrict the calculation to venues with at least 10 publications. How does your histogram change? List the citation counts for all publications from the venue with the highest impact factor. How does the impact factor (mean number of citations) compare to the median number of citations?"
   ]
  },
  {
   "cell_type": "code",
   "execution_count": 37,
   "id": "9e52e9cc",
   "metadata": {},
   "outputs": [],
   "source": [
    "final10 = final[final['total_y'] >= 10]"
   ]
  },
  {
   "cell_type": "code",
   "execution_count": 38,
   "id": "63fd8fae",
   "metadata": {},
   "outputs": [],
   "source": [
    "final10 = final10.drop('Finite Fields and Their Applications')"
   ]
  },
  {
   "cell_type": "code",
   "execution_count": 39,
   "id": "3bf6f8dc",
   "metadata": {},
   "outputs": [
    {
     "data": {
      "text/plain": [
       "<AxesSubplot: title={'center': 'Histogram of Venue Impacts'}>"
      ]
     },
     "execution_count": 39,
     "metadata": {},
     "output_type": "execute_result"
    },
    {
     "data": {
      "image/png": "[encoded data removed]",
      "text/plain": [
       "<Figure size 640x480 with 1 Axes>"
      ]
     },
     "metadata": {},
     "output_type": "display_data"
    }
   ],
   "source": [
    "plt.title('Histogram of Venue Impacts')\n",
    "plt.grid(True)\n",
    "final10['Impact'].hist(bins = 50, log = True)"
   ]
  },
  {
   "cell_type": "markdown",
   "id": "9c615741",
   "metadata": {},
   "source": [
    "Now our histogram seems much more reasonable after removing venues with publications < 10, and a single outlier we were seeing."
   ]
  },
  {
   "cell_type": "code",
   "execution_count": 40,
   "id": "7dc9791e",
   "metadata": {},
   "outputs": [
    {
     "data": {
      "text/html": [
       "<div>\n",
       "<style scoped>\n",
       "    .dataframe tbody tr th:only-of-type {\n",
       "        vertical-align: middle;\n",
       "    }\n",
       "\n",
       "    .dataframe tbody tr th {\n",
       "        vertical-align: top;\n",
       "    }\n",
       "\n",
       "    .dataframe thead th {\n",
       "        text-align: right;\n",
       "    }\n",
       "</style>\n",
       "<table border=\"1\" class=\"dataframe\">\n",
       "  <thead>\n",
       "    <tr style=\"text-align: right;\">\n",
       "      <th></th>\n",
       "      <th>Citations</th>\n",
       "      <th>Publications</th>\n",
       "      <th>Impact</th>\n",
       "    </tr>\n",
       "    <tr>\n",
       "      <th>Publication Venue</th>\n",
       "      <th></th>\n",
       "      <th></th>\n",
       "      <th></th>\n",
       "    </tr>\n",
       "  </thead>\n",
       "  <tbody>\n",
       "    <tr>\n",
       "      <th>LICS '97 Proceedings of the 12th Annual IEEE Symposium on Logic in Computer Science</th>\n",
       "      <td>6134.0</td>\n",
       "      <td>27</td>\n",
       "      <td>227.185185</td>\n",
       "    </tr>\n",
       "    <tr>\n",
       "      <th>SOCA '13 Proceedings of the 2013 IEEE 6th International Conference on Service-Oriented Computing and Applications</th>\n",
       "      <td>6444.0</td>\n",
       "      <td>29</td>\n",
       "      <td>222.206897</td>\n",
       "    </tr>\n",
       "    <tr>\n",
       "      <th>WRAC'05 Proceedings of the Second international conference on Radical Agent Concepts: innovative Concepts for Autonomic and Agent-Based Systems</th>\n",
       "      <td>2778.0</td>\n",
       "      <td>15</td>\n",
       "      <td>185.200000</td>\n",
       "    </tr>\n",
       "    <tr>\n",
       "      <th>NordSec '09 Proceedings of the 14th Nordic Conference on Secure IT Systems: Identity and Privacy in the Internet Age</th>\n",
       "      <td>2777.0</td>\n",
       "      <td>15</td>\n",
       "      <td>185.133333</td>\n",
       "    </tr>\n",
       "    <tr>\n",
       "      <th>Modern software tools for scientific computing</th>\n",
       "      <td>1312.0</td>\n",
       "      <td>10</td>\n",
       "      <td>131.200000</td>\n",
       "    </tr>\n",
       "    <tr>\n",
       "      <th>MobiCom '97 Proceedings of the 3rd annual ACM/IEEE international conference on Mobile computing and networking</th>\n",
       "      <td>3396.0</td>\n",
       "      <td>26</td>\n",
       "      <td>130.615385</td>\n",
       "    </tr>\n",
       "    <tr>\n",
       "      <th>MSN '12 Proceedings of the 2012 8th International Conference on Mobile Ad-hoc and Sensor Networks</th>\n",
       "      <td>1811.0</td>\n",
       "      <td>14</td>\n",
       "      <td>129.357143</td>\n",
       "    </tr>\n",
       "    <tr>\n",
       "      <th>SWAT '08 Proceedings of the 11th Scandinavian workshop on Algorithm Theory</th>\n",
       "      <td>4396.0</td>\n",
       "      <td>34</td>\n",
       "      <td>129.294118</td>\n",
       "    </tr>\n",
       "    <tr>\n",
       "      <th>ISM '08 Proceedings of the 2008 Tenth IEEE International Symposium on Multimedia</th>\n",
       "      <td>4717.0</td>\n",
       "      <td>38</td>\n",
       "      <td>124.131579</td>\n",
       "    </tr>\n",
       "    <tr>\n",
       "      <th>Pattern Recognition Letters - Special issue on artificial neural networks</th>\n",
       "      <td>1182.0</td>\n",
       "      <td>10</td>\n",
       "      <td>118.200000</td>\n",
       "    </tr>\n",
       "  </tbody>\n",
       "</table>\n",
       "</div>"
      ],
      "text/plain": [
       "                                                    Citations  Publications  \\\n",
       "Publication Venue                                                             \n",
       "LICS '97 Proceedings of the 12th Annual IEEE Sy...     6134.0            27   \n",
       "SOCA '13 Proceedings of the 2013 IEEE 6th Inter...     6444.0            29   \n",
       "WRAC'05 Proceedings of the Second international...     2778.0            15   \n",
       "NordSec '09 Proceedings of the 14th Nordic Conf...     2777.0            15   \n",
       "Modern software tools for scientific computing         1312.0            10   \n",
       "MobiCom '97 Proceedings of the 3rd annual ACM/I...     3396.0            26   \n",
       "MSN '12 Proceedings of the 2012 8th Internation...     1811.0            14   \n",
       "SWAT '08 Proceedings of the 11th Scandinavian w...     4396.0            34   \n",
       "ISM '08 Proceedings of the 2008 Tenth IEEE Inte...     4717.0            38   \n",
       "Pattern Recognition Letters - Special issue on ...     1182.0            10   \n",
       "\n",
       "                                                        Impact  \n",
       "Publication Venue                                               \n",
       "LICS '97 Proceedings of the 12th Annual IEEE Sy...  227.185185  \n",
       "SOCA '13 Proceedings of the 2013 IEEE 6th Inter...  222.206897  \n",
       "WRAC'05 Proceedings of the Second international...  185.200000  \n",
       "NordSec '09 Proceedings of the 14th Nordic Conf...  185.133333  \n",
       "Modern software tools for scientific computing      131.200000  \n",
       "MobiCom '97 Proceedings of the 3rd annual ACM/I...  130.615385  \n",
       "MSN '12 Proceedings of the 2012 8th Internation...  129.357143  \n",
       "SWAT '08 Proceedings of the 11th Scandinavian w...  129.294118  \n",
       "ISM '08 Proceedings of the 2008 Tenth IEEE Inte...  124.131579  \n",
       "Pattern Recognition Letters - Special issue on ...  118.200000  "
      ]
     },
     "execution_count": 40,
     "metadata": {},
     "output_type": "execute_result"
    }
   ],
   "source": [
    "final10.sort_values(by = 'Impact', ascending = False).head(10).rename(columns={'total_x': 'Citations', 'total_y': 'Publications'})"
   ]
  },
  {
   "cell_type": "code",
   "execution_count": 41,
   "id": "9b093228",
   "metadata": {},
   "outputs": [
    {
     "name": "stdout",
     "output_type": "stream",
     "text": [
      "Mean: 8.215642801586187\n",
      "Median: 5.267261904761905\n"
     ]
    }
   ],
   "source": [
    "print(f\"Mean: {final10['Impact'].mean()}\")\n",
    "print(f\"Median: {final10['Impact'].median()}\")"
   ]
  },
  {
   "cell_type": "markdown",
   "id": "292cec5c",
   "metadata": {},
   "source": [
    "We can see a higher mean at 8.2 compared to our Median of 5.3, which indicates a right skew of our Impact data."
   ]
  },
  {
   "cell_type": "markdown",
   "id": "1d52b217",
   "metadata": {},
   "source": [
    "### J \n",
    " Finally, construct a list of publications for each publication year. Use this list to plot the average number of references and average number of citations per publication as a function of time. Explain the differences you see in the trends."
   ]
  },
  {
   "cell_type": "code",
   "execution_count": 66,
   "id": "38020917",
   "metadata": {},
   "outputs": [],
   "source": [
    "#initialize DF\n",
    "yearly = df[['Index', 'Title', 'Year']]"
   ]
  },
  {
   "cell_type": "code",
   "execution_count": 67,
   "id": "17b3b389",
   "metadata": {},
   "outputs": [],
   "source": [
    "#join citation data\n",
    "temp = pd.merge(yearly, pd.DataFrame(cites), left_on = 'Index', right_on = 'References')"
   ]
  },
  {
   "cell_type": "code",
   "execution_count": 68,
   "id": "e8abf66b",
   "metadata": {},
   "outputs": [],
   "source": [
    "#join reference data\n",
    "temp = pd.merge(temp, pd.DataFrame(refs['References']), on = 'Index')"
   ]
  },
  {
   "cell_type": "code",
   "execution_count": 77,
   "id": "4dc187a8",
   "metadata": {},
   "outputs": [],
   "source": [
    "yearly = temp.rename(columns = {0:'Citations'})"
   ]
  },
  {
   "cell_type": "code",
   "execution_count": 96,
   "id": "7b54fd88",
   "metadata": {},
   "outputs": [],
   "source": [
    "#get data means\n",
    "yearly = yearly.groupby('Year')[['Citations', 'References']].mean().sort_values('Year')"
   ]
  },
  {
   "cell_type": "code",
   "execution_count": 71,
   "id": "0fde4b1a",
   "metadata": {},
   "outputs": [
    {
     "data": {
      "text/plain": [
       "<AxesSubplot: xlabel='Year'>"
      ]
     },
     "execution_count": 71,
     "metadata": {},
     "output_type": "execute_result"
    },
    {
     "data": {
      "image/png": "[encoded data removed]",
      "text/plain": [
       "<Figure size 640x480 with 1 Axes>"
      ]
     },
     "metadata": {},
     "output_type": "display_data"
    }
   ],
   "source": [
    "yearly.plot()"
   ]
  },
  {
   "cell_type": "markdown",
   "id": "1a9b841d",
   "metadata": {},
   "source": [
    "We can see an overall slightly upward trend in both average Citations and References over time, though References begins to increase more sharply in the 2000s."
   ]
  }
 ],
 "metadata": {
  "kernelspec": {
   "display_name": "Python 3 (ipykernel)",
   "language": "python",
   "name": "python3"
  },
  "language_info": {
   "codemirror_mode": {
    "name": "ipython",
    "version": 3
   },
   "file_extension": ".py",
   "mimetype": "text/x-python",
   "name": "python",
   "nbconvert_exporter": "python",
   "pygments_lexer": "ipython3",
   "version": "3.9.12"
  }
 },
 "nbformat": 4,
 "nbformat_minor": 5
}
