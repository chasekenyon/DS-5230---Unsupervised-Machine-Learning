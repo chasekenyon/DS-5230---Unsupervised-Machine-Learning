{
 "cells": [
  {
   "cell_type": "code",
   "execution_count": 1,
   "id": "ef8a4caa",
   "metadata": {},
   "outputs": [],
   "source": [
    "import numpy as np\n",
    "import tensorflow as tf\n",
    "import time\n",
    "import matplotlib.pyplot as plt\n",
    "import random\n",
    "from sklearn.datasets import fetch_20newsgroups\n",
    "from sklearn.feature_extraction.text import TfidfVectorizer\n",
    "from sklearn.preprocessing import normalize\n",
    "from sklearn.datasets import fetch_openml\n",
    "from scipy.stats import multivariate_normal as mvn\n",
    "import pandas as pd\n",
    "from sklearn.mixture import GaussianMixture\n",
    "from sklearn.model_selection import train_test_split\n",
    "from scipy.stats import multivariate_normal"
   ]
  },
  {
   "cell_type": "markdown",
   "id": "bf4c5524",
   "metadata": {},
   "source": [
    "# Problem 2\n",
    "### Loading Data"
   ]
  },
  {
   "cell_type": "code",
   "execution_count": 53,
   "id": "cb65b384",
   "metadata": {},
   "outputs": [],
   "source": [
    "def load_mnist():\n",
    "    # load MNIST dataset\n",
    "    (X_train, y_train), (X_test, y_test) = tf.keras.datasets.mnist.load_data()\n",
    "    X = np.concatenate((X_train, X_test))\n",
    "    y = np.concatenate((y_train, y_test))\n",
    "\n",
    "    # flatten the images from 28x28 to 784\n",
    "    X = X.reshape(X.shape[0], X.shape[1] * X.shape[2])\n",
    "\n",
    "    # normalize the data\n",
    "    X = normalize(X)\n",
    "        \n",
    "    return X, y"
   ]
  },
  {
   "cell_type": "code",
   "execution_count": 3,
   "id": "3b225cc0",
   "metadata": {},
   "outputs": [],
   "source": [
    "def load_fashion_mnist():\n",
    "    (X_train, y_train), (X_test, y_test) = tf.keras.datasets.fashion_mnist.load_data()\n",
    "    X = np.concatenate((X_train, X_test))\n",
    "    y = np.concatenate((y_train, y_test))\n",
    "    \n",
    "    # flatten the images from 28x28 to 784\n",
    "    X = X.reshape(X.shape[0], X.shape[1] * X.shape[2])\n",
    "\n",
    "    # normalize the data\n",
    "    X = normalize(X)\n",
    "    return X, y"
   ]
  },
  {
   "cell_type": "code",
   "execution_count": 58,
   "id": "bb8e5940",
   "metadata": {},
   "outputs": [],
   "source": [
    "def load_20ng(n_samples=1000):\n",
    "    newsgroups = fetch_20newsgroups(subset='all', remove=('headers', 'footers', 'quotes'))\n",
    "    vectorizer = TfidfVectorizer()\n",
    "    X = vectorizer.fit_transform(newsgroups.data)\n",
    "    X = normalize(X)\n",
    "    X = X[:n_samples,:]\n",
    "    y = newsgroups.target[:n_samples]\n",
    "    \n",
    "    return np.array(X.toarray()), y"
   ]
  },
  {
   "cell_type": "code",
   "execution_count": 5,
   "id": "0a19d83a",
   "metadata": {},
   "outputs": [],
   "source": [
    "def load_spambase(file_path):\n",
    "    # load the spambase data from the file\n",
    "    data = np.loadtxt(file_path, delimiter=\",\")\n",
    "    \n",
    "    # separate the features and labels\n",
    "    X = data[:, :-1]\n",
    "    y = data[:, -1]\n",
    "    \n",
    "    # normalize the features\n",
    "    X = (X - X.mean(axis=0)) / X.std(axis=0)\n",
    "    \n",
    "    return X, y"
   ]
  },
  {
   "cell_type": "markdown",
   "id": "90e0ef7c",
   "metadata": {},
   "source": [
    "### Function Declarations"
   ]
  },
  {
   "cell_type": "code",
   "execution_count": 6,
   "id": "492695a0",
   "metadata": {},
   "outputs": [],
   "source": [
    "# function to initialize random centroids\n",
    "def initialize_centroids(X, k):\n",
    "    # number of samples\n",
    "    n_samples = X.shape[0]\n",
    "\n",
    "    # number of features\n",
    "    n_features = X.shape[1]\n",
    "    \n",
    "    # initialize centroids using k-means++\n",
    "    centroids = np.zeros((k, n_features))\n",
    "    centroids[0] = X[np.random.choice(n_samples, size=1), :].flatten()\n",
    "    for i in range(1, k):\n",
    "        distances = np.array([min([np.linalg.norm(x - c)**2 for c in centroids[:i]]) for x in X])\n",
    "        X = np.array(data, dtype=np.float32)\n",
    "        prob = distances / np.sum(distances)\n",
    "        cumprob = np.cumsum(prob)\n",
    "        r = np.random.rand()\n",
    "        for j, p in enumerate(cumprob):\n",
    "            if r < p:\n",
    "                break\n",
    "        centroids[i] = X[j, :].flatten()\n",
    "\n",
    "    return centroids"
   ]
  },
  {
   "cell_type": "code",
   "execution_count": 7,
   "id": "eb261f8d",
   "metadata": {},
   "outputs": [],
   "source": [
    "def cluster_assignment(X, centroids):\n",
    "    # number of samples\n",
    "    n_samples = X.shape[0]\n",
    "\n",
    "    # assign each data point to the closest centroid\n",
    "    clusters = np.zeros(n_samples)\n",
    "    for i in range(n_samples):\n",
    "        distances = np.array([np.linalg.norm(X[i] - c)**2 for c in centroids])\n",
    "        clusters[i] = np.argmin(distances)\n",
    "\n",
    "    return clusters"
   ]
  },
  {
   "cell_type": "code",
   "execution_count": 8,
   "id": "fc75d04f",
   "metadata": {},
   "outputs": [],
   "source": [
    "def update_centroids(X, clusters, k):\n",
    "    # number of features\n",
    "    n_features = X.shape[1]\n",
    "\n",
    "    # update the centroids\n",
    "    centroids = np.zeros((k, n_features))\n",
    "    for i in range(k):\n",
    "        centroids[i] = np.mean(X[clusters == i], axis=0)\n",
    "\n",
    "    return centroids"
   ]
  },
  {
   "cell_type": "code",
   "execution_count": 9,
   "id": "e13b0044",
   "metadata": {},
   "outputs": [],
   "source": [
    "def compute_sse(X, clusters, centroids):\n",
    "    sse = 0\n",
    "    for i in range(centroids.shape[0]):\n",
    "        sse += np.sum(np.linalg.norm(X[clusters == i] - centroids[i], axis=1)**2)\n",
    "    return sse"
   ]
  },
  {
   "cell_type": "code",
   "execution_count": 56,
   "id": "a823f327",
   "metadata": {},
   "outputs": [],
   "source": [
    "def kmeans(X, k, max_iters=100, epsilon=1e-5):\n",
    "    N, D = X.shape\n",
    "    # Initialize centroids randomly\n",
    "    centroids = X[np.random.choice(N, k, replace=False)]\n",
    "    centroids = centroids.astype(np.float16)\n",
    "    for i in range(max_iters):\n",
    "        # Assign clusters to each data point\n",
    "        distances = np.sqrt(((X[:, np.newaxis] - centroids) ** 2).sum(axis=2), dtype = np.float16)\n",
    "        clusters = np.argmin(distances, axis=1)\n",
    "        # Calculate the new centroids\n",
    "        new_centroids = np.zeros((k, D))\n",
    "        for j in range(k):\n",
    "            cluster = X[clusters == j]\n",
    "            new_centroids[j] = cluster.mean(axis=0)\n",
    "        # Check if the change in centroids is within the tolerance\n",
    "        delta = np.abs(centroids - new_centroids).sum()\n",
    "        if delta < epsilon:\n",
    "            break\n",
    "        centroids = new_centroids\n",
    "        \n",
    "    sse = compute_sse(X, clusters, centroids)\n",
    "    \n",
    "    return centroids, clusters, sse"
   ]
  },
  {
   "cell_type": "code",
   "execution_count": 51,
   "id": "ea123e57",
   "metadata": {},
   "outputs": [
    {
     "data": {
      "text/plain": [
       "(2000, 134410)"
      ]
     },
     "execution_count": 51,
     "metadata": {},
     "output_type": "execute_result"
    }
   ],
   "source": [
    "X.shape"
   ]
  },
  {
   "cell_type": "code",
   "execution_count": 11,
   "id": "5819812c",
   "metadata": {},
   "outputs": [],
   "source": [
    "#Check KMeans Accuracy\n",
    "def check_accuracy(y, clusters):\n",
    "    cluster_labels = [np.argmax([np.sum(clusters == c) for c in range(k)]) for i in range(k)]\n",
    "    y_pred = [cluster_labels[np.argmax(clusters[i])] for i in range(len(y))]\n",
    "    accuracy = np.mean(y_pred == y)\n",
    "    return accuracy"
   ]
  },
  {
   "cell_type": "code",
   "execution_count": 12,
   "id": "6ffba1c9",
   "metadata": {},
   "outputs": [],
   "source": [
    "# Display and Compare MNIST Predictions\n",
    "def display_predictions(clusters, X, y, is_fashion_mnist = False):\n",
    "    X = X * X.std(axis=0) + X.mean(axis=0)\n",
    "    if is_fashion_mnist:\n",
    "        labels = [\n",
    "        'T-shirt/top',\n",
    "        'Trouser',\n",
    "        'Pullover',\n",
    "        'Dress',\n",
    "        'Coat',\n",
    "        'Sandal',\n",
    "        'Shirt',\n",
    "        'Sneaker',\n",
    "        'Bag',\n",
    "        'Ankle boot'\n",
    "    ]\n",
    "    else:\n",
    "        labels = [0, 1, 2, 3, 4, 5, 6, 7, 8, 9]\n",
    "\n",
    "    num_clusters = len(np.unique(clusters))\n",
    "    fig, axs = plt.subplots(1, num_clusters, figsize=(20,20))\n",
    "    \n",
    "    for i in range(num_clusters):\n",
    "        cluster_indices = np.where(clusters == i)\n",
    "        cluster_images = X[cluster_indices]\n",
    "        cluster_labels = y[cluster_indices]\n",
    "        \n",
    "        for j in range(5):\n",
    "            random_index = np.random.randint(0, len(cluster_images))\n",
    "            image = cluster_images[random_index].reshape(28, 28)\n",
    "            axs[i].imshow(image, cmap='gray')\n",
    "            prediction = labels[i]\n",
    "            actual = labels[int(cluster_labels[random_index])]\n",
    "            if prediction == actual:\n",
    "                color = 'green'\n",
    "            else:\n",
    "                color = 'red'\n",
    "            axs[i].set_title('Prediction: {}\\nActual: {}'.format(prediction, actual), color=color)\n",
    "    plt.show()"
   ]
  },
  {
   "cell_type": "code",
   "execution_count": 13,
   "id": "6130a488",
   "metadata": {},
   "outputs": [],
   "source": [
    "# Display and Compare 20ng Predictions\n",
    "def display_20ng_predictions(predictions, X, y):\n",
    "    \"\"\"\n",
    "    Display a random selection of the predicted images and their actual labels.\n",
    "    :param predictions: The predicted clusters.\n",
    "    :param X: The input data.\n",
    "    :param y: The actual labels.\n",
    "    \"\"\"\n",
    "    random_indices = random.sample(range(len(y)), 10)\n",
    "    for i in random_indices:\n",
    "        prediction = predictions[i]\n",
    "        actual = y[i]\n",
    "        print(\"Prediction: {}\".format(prediction))\n",
    "        print(\"Actual: {}\".format(actual))\n",
    "        print(\"------------------------------\")"
   ]
  },
  {
   "cell_type": "code",
   "execution_count": 14,
   "id": "e59d8f0c",
   "metadata": {},
   "outputs": [],
   "source": [
    "#Load text files\n",
    "def load_txt(filename):\n",
    "    with open(filename, 'r') as file:\n",
    "        data = file.readlines()\n",
    "    \n",
    "    X = []\n",
    "    for line in data:\n",
    "        x = [float(val) for val in line.split()]\n",
    "        X.append(x)\n",
    "    \n",
    "    return np.array(X)"
   ]
  },
  {
   "cell_type": "code",
   "execution_count": 15,
   "id": "da9eb1fb",
   "metadata": {},
   "outputs": [],
   "source": [
    "def GaussianMixtureModel(X, K, max_iter=100, tol=1e-6):\n",
    "    N, d = X.shape\n",
    "    \n",
    "    # initialize the parameters\n",
    "    mu = X[np.random.choice(N, K, replace=False)]\n",
    "    sigma = [np.eye(d) for _ in range(K)]\n",
    "    W = np.ones((N, K)) / K\n",
    "    W_prev = np.zeros((N, K))\n",
    "    \n",
    "    for i in range(max_iter):\n",
    "        # calculate the probability density of each point given each Gaussian\n",
    "        p = np.zeros((N, K))\n",
    "        for k in range(K):\n",
    "            p[:, k] = mvn.pdf(X, mean=mu[k], cov=sigma[k])\n",
    "            p[:, k] = np.where(np.isinf(p[:, k]), 1e-10, p[:, k])\n",
    "            p[:, k] = np.where(np.isnan(p[:, k]), 1e-10, p[:, k])\n",
    "        \n",
    "        W = W * p\n",
    "        W = W / np.sum(W, axis=1, keepdims=True)\n",
    "        \n",
    "        # M step\n",
    "        for k in range(K):\n",
    "            mu[k] = np.sum(W[:, k][:, np.newaxis] * X, axis=0) / np.sum(W[:, k])\n",
    "            sigma[k] = np.cov(X.T, aweights=W[:, k], bias=True)\n",
    "            \n",
    "        # check for convergence\n",
    "        if np.abs(W - W_prev).max() < tol:\n",
    "            print(f\"Converged in {i} steps.\")\n",
    "            break\n",
    "        W_prev = np.copy(W)\n",
    "        \n",
    "    return mu, sigma, W"
   ]
  },
  {
   "cell_type": "markdown",
   "id": "e8953c64",
   "metadata": {},
   "source": [
    "### Kmeans on MNIST"
   ]
  },
  {
   "cell_type": "code",
   "execution_count": 16,
   "id": "cea371de",
   "metadata": {},
   "outputs": [
    {
     "name": "stdout",
     "output_type": "stream",
     "text": [
      "192.14952111244202\n"
     ]
    }
   ],
   "source": [
    "# run K-Means on MNIST dataset\n",
    "X, y = load_mnist()\n",
    "k =10\n",
    "start = time.time()\n",
    "centroids, clusters, sse = kmeans(X, k)\n",
    "end=time.time()\n",
    "print(end-start)"
   ]
  },
  {
   "cell_type": "code",
   "execution_count": 17,
   "id": "702cd2b6",
   "metadata": {},
   "outputs": [
    {
     "data": {
      "image/png": "[encoded data removed]",
      "text/plain": [
       "<Figure size 2000x2000 with 10 Axes>"
      ]
     },
     "metadata": {},
     "output_type": "display_data"
    }
   ],
   "source": [
    "display_predictions(clusters, X, y, is_fashion_mnist=False)"
   ]
  },
  {
   "cell_type": "code",
   "execution_count": 18,
   "id": "3fa47375",
   "metadata": {},
   "outputs": [
    {
     "data": {
      "text/plain": [
       "30759.452298524546"
      ]
     },
     "execution_count": 18,
     "metadata": {},
     "output_type": "execute_result"
    }
   ],
   "source": [
    "sse"
   ]
  },
  {
   "cell_type": "code",
   "execution_count": 19,
   "id": "95c7bb98",
   "metadata": {},
   "outputs": [
    {
     "data": {
      "text/plain": [
       "0.11252857142857142"
      ]
     },
     "execution_count": 19,
     "metadata": {},
     "output_type": "execute_result"
    }
   ],
   "source": [
    "accuracy = check_accuracy(y, clusters)\n",
    "accuracy"
   ]
  },
  {
   "cell_type": "markdown",
   "id": "852ebd28",
   "metadata": {},
   "source": [
    "### Kmeans on Fashion"
   ]
  },
  {
   "cell_type": "code",
   "execution_count": 20,
   "id": "1b996100",
   "metadata": {},
   "outputs": [
    {
     "name": "stdout",
     "output_type": "stream",
     "text": [
      "91.826247215271\n"
     ]
    }
   ],
   "source": [
    "X, y =  load_fashion_mnist()\n",
    "# run K-Means on Fashion MNIST dataset\n",
    "k =10\n",
    "start = time.time()\n",
    "centroids, clusters, sse = kmeans(X, k)\n",
    "end=time.time()\n",
    "print(end-start)"
   ]
  },
  {
   "cell_type": "code",
   "execution_count": 21,
   "id": "562d6d0e",
   "metadata": {},
   "outputs": [
    {
     "data": {
      "image/png": "[encoded data removed]",
      "text/plain": [
       "<Figure size 2000x2000 with 10 Axes>"
      ]
     },
     "metadata": {},
     "output_type": "display_data"
    }
   ],
   "source": [
    "display_predictions(clusters, X, y, is_fashion_mnist=True)"
   ]
  },
  {
   "cell_type": "code",
   "execution_count": 22,
   "id": "89a5b7c6",
   "metadata": {},
   "outputs": [
    {
     "data": {
      "text/plain": [
       "14895.371710159146"
      ]
     },
     "execution_count": 22,
     "metadata": {},
     "output_type": "execute_result"
    }
   ],
   "source": [
    "sse"
   ]
  },
  {
   "cell_type": "code",
   "execution_count": 23,
   "id": "9dee504a",
   "metadata": {},
   "outputs": [
    {
     "data": {
      "text/plain": [
       "0.1"
      ]
     },
     "execution_count": 23,
     "metadata": {},
     "output_type": "execute_result"
    }
   ],
   "source": [
    "accuracy = check_accuracy(y, clusters)\n",
    "accuracy"
   ]
  },
  {
   "cell_type": "markdown",
   "id": "c69e3e55",
   "metadata": {},
   "source": [
    "### Kmeans on 20ng"
   ]
  },
  {
   "cell_type": "code",
   "execution_count": 59,
   "id": "8d0f5157",
   "metadata": {},
   "outputs": [
    {
     "name": "stdout",
     "output_type": "stream",
     "text": [
      "483.07033252716064\n"
     ]
    }
   ],
   "source": [
    "# run K-Means on 20ng dataset\n",
    "X, y = load_20ng()\n",
    "k = 20\n",
    "start = time.time()\n",
    "centroids, clusters, sse = kmeans(X, k, 10)\n",
    "end=time.time()\n",
    "print(end-start)"
   ]
  },
  {
   "cell_type": "code",
   "execution_count": 60,
   "id": "757cb27a",
   "metadata": {},
   "outputs": [
    {
     "name": "stdout",
     "output_type": "stream",
     "text": [
      "Prediction: 7\n",
      "Actual: 19\n",
      "------------------------------\n",
      "Prediction: 0\n",
      "Actual: 10\n",
      "------------------------------\n",
      "Prediction: 7\n",
      "Actual: 7\n",
      "------------------------------\n",
      "Prediction: 0\n",
      "Actual: 7\n",
      "------------------------------\n",
      "Prediction: 0\n",
      "Actual: 8\n",
      "------------------------------\n",
      "Prediction: 0\n",
      "Actual: 13\n",
      "------------------------------\n",
      "Prediction: 7\n",
      "Actual: 1\n",
      "------------------------------\n",
      "Prediction: 13\n",
      "Actual: 12\n",
      "------------------------------\n",
      "Prediction: 7\n",
      "Actual: 7\n",
      "------------------------------\n",
      "Prediction: 14\n",
      "Actual: 1\n",
      "------------------------------\n"
     ]
    }
   ],
   "source": [
    "display_20ng_predictions(clusters, X, y)"
   ]
  },
  {
   "cell_type": "code",
   "execution_count": 61,
   "id": "11a62413",
   "metadata": {},
   "outputs": [
    {
     "data": {
      "text/plain": [
       "890.2711641912612"
      ]
     },
     "execution_count": 61,
     "metadata": {},
     "output_type": "execute_result"
    }
   ],
   "source": [
    "sse"
   ]
  },
  {
   "cell_type": "code",
   "execution_count": 62,
   "id": "2f73567f",
   "metadata": {},
   "outputs": [
    {
     "data": {
      "text/plain": [
       "0.042"
      ]
     },
     "execution_count": 62,
     "metadata": {},
     "output_type": "execute_result"
    }
   ],
   "source": [
    "accuracy = check_accuracy(y, clusters)\n",
    "accuracy"
   ]
  },
  {
   "cell_type": "markdown",
   "id": "f18a635e",
   "metadata": {},
   "source": [
    "# Problem 3\n",
    "### Gaussian Mixtures"
   ]
  },
  {
   "cell_type": "code",
   "execution_count": 63,
   "id": "fb96ba02",
   "metadata": {},
   "outputs": [
    {
     "name": "stdout",
     "output_type": "stream",
     "text": [
      "Converged in 1509 steps.\n"
     ]
    }
   ],
   "source": [
    "#Load and run 2gaussian.txt\n",
    "X = load_txt(\"C:/Users/chase/OneDrive/Northeastern Code/DS 5230/Hw 2/2gaussian.txt\")\n",
    "mu, sigma, W = GaussianMixtureModel(X, 2, 10000)"
   ]
  },
  {
   "cell_type": "code",
   "execution_count": 64,
   "id": "f259f9c4",
   "metadata": {},
   "outputs": [
    {
     "data": {
      "text/plain": [
       "array([[3.01921073, 3.04391247],\n",
       "       [7.04717707, 3.9983068 ]])"
      ]
     },
     "execution_count": 64,
     "metadata": {},
     "output_type": "execute_result"
    }
   ],
   "source": [
    "mu"
   ]
  },
  {
   "cell_type": "code",
   "execution_count": 65,
   "id": "44c07f79",
   "metadata": {},
   "outputs": [
    {
     "data": {
      "text/plain": [
       "[array([[1.00202608, 0.01739152],\n",
       "        [0.01739152, 2.90698691]]),\n",
       " array([[0.89287536, 0.45886027],\n",
       "        [0.45886027, 0.97615191]])]"
      ]
     },
     "execution_count": 65,
     "metadata": {},
     "output_type": "execute_result"
    }
   ],
   "source": [
    "sigma"
   ]
  },
  {
   "cell_type": "code",
   "execution_count": 66,
   "id": "e4bf11e3",
   "metadata": {},
   "outputs": [
    {
     "name": "stdout",
     "output_type": "stream",
     "text": [
      "Converged in 4017 steps.\n"
     ]
    }
   ],
   "source": [
    "#Load and run 3gaussian.txt\n",
    "X = load_txt(\"C:/Users/chase/OneDrive/Northeastern Code/DS 5230/Hw 2/3gaussian.txt\")\n",
    "mu, sigma, W = GaussianMixtureModel(X, 3, 10000)"
   ]
  },
  {
   "cell_type": "code",
   "execution_count": 67,
   "id": "d906b0a7",
   "metadata": {},
   "outputs": [
    {
     "data": {
      "text/plain": [
       "array([[3.03157663, 3.33991107],\n",
       "       [7.03005599, 4.04725089],\n",
       "       [5.09836611, 7.09714302]])"
      ]
     },
     "execution_count": 67,
     "metadata": {},
     "output_type": "execute_result"
    }
   ],
   "source": [
    "mu"
   ]
  },
  {
   "cell_type": "code",
   "execution_count": 68,
   "id": "d238d157",
   "metadata": {},
   "outputs": [
    {
     "data": {
      "text/plain": [
       "[array([[ 0.87260486, -0.03681952],\n",
       "        [-0.03681952,  3.82302213]]),\n",
       " array([[0.93195582, 0.47070961],\n",
       "        [0.47070961, 1.00703857]]),\n",
       " array([[0.77559423, 0.10884574],\n",
       "        [0.10884574, 0.83305942]])]"
      ]
     },
     "execution_count": 68,
     "metadata": {},
     "output_type": "execute_result"
    }
   ],
   "source": [
    "sigma"
   ]
  },
  {
   "cell_type": "markdown",
   "id": "085578a7",
   "metadata": {},
   "source": [
    "# Problem 4\n",
    "Gaussian Mixture on real data"
   ]
  },
  {
   "cell_type": "code",
   "execution_count": 69,
   "id": "bb7598c9",
   "metadata": {},
   "outputs": [],
   "source": [
    "gm = GaussianMixture(n_components = 2, covariance_type = 'diag')"
   ]
  },
  {
   "cell_type": "code",
   "execution_count": 70,
   "id": "7db5a3d4",
   "metadata": {},
   "outputs": [],
   "source": [
    "X, y = load_fashion_mnist()\n",
    "X, X_test, y, y_test = train_test_split(X, y, test_size = 1/7, random_state = 1)"
   ]
  },
  {
   "cell_type": "code",
   "execution_count": 71,
   "id": "ca4d8e84",
   "metadata": {},
   "outputs": [],
   "source": [
    "gms = {}\n",
    "x=10\n",
    "scores = np.empty((len(y_test), x))\n",
    "\n",
    "for i in range(x):\n",
    "    temp = X[y==i]\n",
    "    gms[f\"gm{i}\"] = gm.fit(temp)\n",
    "    scores[:,i] = gms[f\"gm{i}\"].score_samples(X_test) * len(temp)/X.shape[0]\n",
    "    predictions = np.argmax(scores, axis=1)\n"
   ]
  },
  {
   "cell_type": "code",
   "execution_count": 72,
   "id": "de09b25e",
   "metadata": {},
   "outputs": [],
   "source": [
    "correct = sum(predictions == y_test)"
   ]
  },
  {
   "cell_type": "code",
   "execution_count": 73,
   "id": "a63afc11",
   "metadata": {},
   "outputs": [
    {
     "data": {
      "text/plain": [
       "0.6689"
      ]
     },
     "execution_count": 73,
     "metadata": {},
     "output_type": "execute_result"
    }
   ],
   "source": [
    "accuracy = correct / len(y_test)\n",
    "accuracy"
   ]
  },
  {
   "cell_type": "code",
   "execution_count": 74,
   "id": "c3989320",
   "metadata": {},
   "outputs": [],
   "source": [
    "X, y = load_spambase(\"C:/Users/chase/OneDrive/Northeastern Code/DS 5230/Hw 2/spambase/spambase.data\")\n",
    "X, X_test, y, y_test = train_test_split(X, y, test_size = 1/7, random_state = 1)"
   ]
  },
  {
   "cell_type": "code",
   "execution_count": 75,
   "id": "f3beb8e4",
   "metadata": {},
   "outputs": [],
   "source": [
    "gms = {}\n",
    "x=2\n",
    "scores = np.empty((len(y_test), x))\n",
    "\n",
    "for i in range(x):\n",
    "    temp = X[y==i]\n",
    "    gms[f\"gm{i}\"] = gm.fit(temp)\n",
    "    scores[:,i] = gms[f\"gm{i}\"].score_samples(X_test) * len(temp)/X.shape[0]\n",
    "    predictions = np.argmax(scores, axis=1)\n"
   ]
  },
  {
   "cell_type": "code",
   "execution_count": 76,
   "id": "6ecd35de",
   "metadata": {},
   "outputs": [
    {
     "data": {
      "text/plain": [
       "505"
      ]
     },
     "execution_count": 76,
     "metadata": {},
     "output_type": "execute_result"
    }
   ],
   "source": [
    "correct = sum(predictions == y_test)\n",
    "correct"
   ]
  },
  {
   "cell_type": "code",
   "execution_count": 77,
   "id": "65d2cf13",
   "metadata": {},
   "outputs": [
    {
     "data": {
      "text/plain": [
       "0.7674772036474165"
      ]
     },
     "execution_count": 77,
     "metadata": {},
     "output_type": "execute_result"
    }
   ],
   "source": [
    "accuracy = correct / len(y_test)\n",
    "accuracy"
   ]
  }
 ],
 "metadata": {
  "kernelspec": {
   "display_name": "Python 3 (ipykernel)",
   "language": "python",
   "name": "python3"
  },
  "language_info": {
   "codemirror_mode": {
    "name": "ipython",
    "version": 3
   },
   "file_extension": ".py",
   "mimetype": "text/x-python",
   "name": "python",
   "nbconvert_exporter": "python",
   "pygments_lexer": "ipython3",
   "version": "3.9.16"
  }
 },
 "nbformat": 4,
 "nbformat_minor": 5
}
